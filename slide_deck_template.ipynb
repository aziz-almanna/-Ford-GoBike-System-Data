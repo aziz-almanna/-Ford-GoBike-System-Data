{
 "cells": [
  {
   "cell_type": "markdown",
   "metadata": {
    "slideshow": {
     "slide_type": "slide"
    }
   },
   "source": [
    "#  Ford GoBike System Data\n",
    "\n",
    "## by Abdulaziz Almanna"
   ]
  },
  {
   "cell_type": "markdown",
   "metadata": {
    "slideshow": {
     "slide_type": "slide"
    }
   },
   "source": [
    "## Investigation Overview\n",
    "\n",
    ">in this Investigation I will try To look through the dataset and uncover specific associations between some variables that will allow for the necessary display.\n",
    "\n",
    "## Dataset Overview\n",
    "\n",
    "> his document explores a dataset including time, stations, and users' attributes for 183412 trips, This review looks at the Ford GoBike travel statistics for public bike rides in the Bay Area from January to December 2019. "
   ]
  },
  {
   "cell_type": "code",
   "execution_count": 1,
   "metadata": {
    "slideshow": {
     "slide_type": "skip"
    }
   },
   "outputs": [],
   "source": [
    "# import all packages and set plots to be embedded inline\n",
    "import numpy as np\n",
    "import pandas as pd\n",
    "import matplotlib.pyplot as plt\n",
    "import seaborn as sb\n",
    "\n",
    "%matplotlib inline\n",
    "\n",
    "# suppress warnings from final output\n",
    "import warnings\n",
    "warnings.simplefilter(\"ignore\")"
   ]
  },
  {
   "cell_type": "code",
   "execution_count": null,
   "metadata": {
    "slideshow": {
     "slide_type": "skip"
    }
   },
   "outputs": [],
   "source": [
    "# load in the dataset into a pandas dataframe\n",
    "df = pd.read_csv('201902-fordgobike-tripdata.csv')"
   ]
  },
  {
   "cell_type": "markdown",
   "metadata": {
    "slideshow": {
     "slide_type": "skip"
    }
   },
   "source": [
    "> Note that the above cells have been set as \"Skip\"-type slides. That means\n",
    "that when the notebook is rendered as http slides, those cells won't show up."
   ]
  },
  {
   "cell_type": "markdown",
   "metadata": {
    "slideshow": {
     "slide_type": "slide"
    }
   },
   "source": [
    "## What is the distribution of ages for members?\n",
    "\n",
    "> with a peak between the ages of 26 and 31, and the number of users falls as they get older"
   ]
  },
  {
   "cell_type": "code",
   "execution_count": null,
   "metadata": {
    "slideshow": {
     "slide_type": "subslide"
    }
   },
   "outputs": [],
   "source": [
    "# Add age column\n",
    "df['age'] = 2019 - df['member_birth_year']\n",
    "\n",
    "\n",
    "plt.figure(figsize = (18, 7))\n",
    "df_samp = df.sample(183000)\n",
    "base_color = sb.color_palette()[0]\n",
    "sb.countplot(data = df_samp.sort_values(by='age'), x = 'age', color = base_color);\n",
    "\n",
    "plt.title('distribution of age', fontsize = 20);\n",
    "plt.xlabel('Age')\n",
    "plt.ylabel('Number of Rides')\n",
    "plt.xticks(rotation = 90);\n",
    "plt.style.use('seaborn')"
   ]
  },
  {
   "cell_type": "markdown",
   "metadata": {
    "collapsed": true,
    "slideshow": {
     "slide_type": "slide"
    }
   },
   "source": [
    "## how many rides people would take based on their age ?\n",
    "> This, predictably, corresponds to our first histogram visual, in which the majority of the rides appear to be centered around the early 30's age range."
   ]
  },
  {
   "cell_type": "code",
   "execution_count": null,
   "metadata": {
    "slideshow": {
     "slide_type": "subslide"
    }
   },
   "outputs": [],
   "source": [
    "plt.figure(figsize = [8, 6])\n",
    "plt.scatter(data = df, x = 'age', y = 'duration_sec', alpha = 2/10)\n",
    "plt.title('duration vs age', fontsize = 20);\n",
    "plt.xlabel('age')\n",
    "plt.yscale('log')\n",
    "plt.yticks([500, 1000, 2000, 5000, 10000, 20000 , 40000], [500, '1000', '2000', '5000', '10000', '20000' ,'40000'])\n",
    "plt.ylabel('Number of Rides')\n",
    "plt.show()"
   ]
  },
  {
   "cell_type": "markdown",
   "metadata": {
    "slideshow": {
     "slide_type": "slide"
    }
   },
   "source": [
    "## Compare time and days for each gender\n",
    "\n",
    "> On the two days off, Saturday and Sunday, the duration of the trips is longer for everyone, unlike working days. females always spend more time than male on trips \n"
   ]
  },
  {
   "cell_type": "code",
   "execution_count": null,
   "metadata": {
    "slideshow": {
     "slide_type": "subslide"
    }
   },
   "outputs": [],
   "source": [
    "df.start_time = pd.to_datetime(df.start_time)\n",
    "df.end_time = pd.to_datetime(df.end_time)\n",
    "\n",
    "# add trip day \n",
    "df['trip_day'] = df.start_time.dt.strftime('%a')\n",
    "\n",
    "# change duration sec to minutes\n",
    "df['duration_min'] = df['duration_sec'] / 60\n",
    "\n",
    "#list of days in order \n",
    "day_order=['Mon', 'Tue', 'Wed', 'Thu', 'Fri', 'Sat', 'Sun']\n",
    "\n",
    "fig = plt.figure(figsize = [10,8])\n",
    "sb.pointplot(data = df, x = 'trip_day', y = 'duration_min', hue = 'member_gender', palette = 'Reds', ci=None\n",
    "            ,order= day_order)\n",
    "plt.title('Trip duration across member gender type in different days')\n",
    "plt.ylabel('Trip duration in min')\n",
    "plt.xlabel('Day')\n",
    "plt.show();"
   ]
  },
  {
   "cell_type": "markdown",
   "metadata": {
    "slideshow": {
     "slide_type": "slide"
    }
   },
   "source": [
    "### Summary of Findings\n",
    "This is what I found after analyzing this data\n",
    "\n",
    "- The majority of bike riders are capable of utilizing their bikes for short-distance trips around 10 mins\n",
    "- with a peak between the ages of 26 and 31, and the number of users falls as they get older.\n",
    "- This, predictably, corresponds to our first histogram visual, in which the majority of the rides appear to be centered around the early 30's age range.\n",
    "- We note that the number of trips for men is three times more than women\n",
    "-  On the two days off, Saturday and Sunday, the duration of the trips is longer for everyone, unlike working days, females always spend more time than male on trips \n"
   ]
  },
  {
   "cell_type": "code",
   "execution_count": null,
   "metadata": {
    "slideshow": {
     "slide_type": "notes"
    }
   },
   "outputs": [],
   "source": [
    "!jupyter nbconvert slide_deck_template.ipynb --to slides --post serve --no-input --no-prompt"
   ]
  }
 ],
 "metadata": {
  "celltoolbar": "Slideshow",
  "kernelspec": {
   "display_name": "Python 3",
   "language": "python",
   "name": "python3"
  },
  "language_info": {
   "codemirror_mode": {
    "name": "ipython",
    "version": 3
   },
   "file_extension": ".py",
   "mimetype": "text/x-python",
   "name": "python",
   "nbconvert_exporter": "python",
   "pygments_lexer": "ipython3",
   "version": "3.6.3"
  }
 },
 "nbformat": 4,
 "nbformat_minor": 2
}
